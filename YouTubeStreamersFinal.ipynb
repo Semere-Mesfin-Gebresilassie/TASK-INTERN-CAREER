{
 "cells": [
  {
   "cell_type": "markdown",
   "id": "339c7689",
   "metadata": {},
   "source": [
    "Data Analaysis on YouTube Users"
   ]
  },
  {
   "cell_type": "markdown",
   "id": "866f1651",
   "metadata": {},
   "source": [
    "# Key Insights \n",
    "- The dataset consisits of 1000 entries(rows) and four columns.\n",
    "- In this dataset from Categories column 324 entries have missing values.\n",
    "- The dataset contains no duplicates.\n",
    "- There are a few outliers in the graphs for comments, visits, likes and subscribers this could indicate that there are some datas that are significantly different from the majority of the data.\n",
    "- In popular categories \"Music Y balie\" is the most category and \"Peliculas, Animalion\" the second\n",
    "- The correlation coefficients in the heat map provide insights into the relationship between different numerical columns.\n",
    "- The distribution of subscribers being significantly higher than likes, comments and visits.\n",
    "- T-series, MrBesat and CoComelon in particular have enormous subscriber counts.\n",
    "- Channels that make the most likes, visits and comments usually have the highest performing ones. And the content that most watched world wide is music and dance."
   ]
  },
  {
   "cell_type": "code",
   "execution_count": 2,
   "id": "8037dc76",
   "metadata": {},
   "outputs": [],
   "source": [
    "# Import all necessary libraries"
   ]
  },
  {
   "cell_type": "code",
   "execution_count": 3,
   "id": "4f0cdf9d",
   "metadata": {},
   "outputs": [],
   "source": [
    "import pandas as pd\n",
    "import pandas as pd\n",
    "import matplotlib.pyplot as plt\n",
    "import seaborn as sns\n",
    "import numpy as np\n",
    "%matplotlib inline\n",
    "import warnings\n",
    "warnings.simplefilter(action = \"ignore\", category = FutureWarning)"
   ]
  },
  {
   "cell_type": "code",
   "execution_count": 4,
   "id": "d2c9345e",
   "metadata": {},
   "outputs": [],
   "source": [
    "# Exploratory Data Analysis\n",
    "#Loading the youtube users data"
   ]
  },
  {
   "cell_type": "code",
   "execution_count": 5,
   "id": "664aa81c",
   "metadata": {},
   "outputs": [],
   "source": [
    "Youtubedata = pd.read_csv(r\"C:\\Users\\Semere Mesfin\\Desktop\\InternCareer Datas\\archive\\youtubers_df.csv\")"
   ]
  },
  {
   "cell_type": "code",
   "execution_count": 6,
   "id": "0e2db23a",
   "metadata": {},
   "outputs": [],
   "source": [
    "# Display the first five rows of the data set"
   ]
  },
  {
   "cell_type": "code",
   "execution_count": 7,
   "id": "bc2df546",
   "metadata": {},
   "outputs": [
    {
     "data": {
      "text/html": [
       "<div>\n",
       "<style scoped>\n",
       "    .dataframe tbody tr th:only-of-type {\n",
       "        vertical-align: middle;\n",
       "    }\n",
       "\n",
       "    .dataframe tbody tr th {\n",
       "        vertical-align: top;\n",
       "    }\n",
       "\n",
       "    .dataframe thead th {\n",
       "        text-align: right;\n",
       "    }\n",
       "</style>\n",
       "<table border=\"1\" class=\"dataframe\">\n",
       "  <thead>\n",
       "    <tr style=\"text-align: right;\">\n",
       "      <th></th>\n",
       "      <th>Rank</th>\n",
       "      <th>Username</th>\n",
       "      <th>Categories</th>\n",
       "      <th>Suscribers</th>\n",
       "      <th>Country</th>\n",
       "      <th>Visits</th>\n",
       "      <th>Likes</th>\n",
       "      <th>Comments</th>\n",
       "      <th>Links</th>\n",
       "    </tr>\n",
       "  </thead>\n",
       "  <tbody>\n",
       "    <tr>\n",
       "      <th>0</th>\n",
       "      <td>1</td>\n",
       "      <td>tseries</td>\n",
       "      <td>Música y baile</td>\n",
       "      <td>253500000.0</td>\n",
       "      <td>India</td>\n",
       "      <td>111300.0</td>\n",
       "      <td>3200.0</td>\n",
       "      <td>120.0</td>\n",
       "      <td>http://youtube.com/channel/UCq-Fj5jknLsUf-MWSy...</td>\n",
       "    </tr>\n",
       "    <tr>\n",
       "      <th>1</th>\n",
       "      <td>2</td>\n",
       "      <td>MrBeast</td>\n",
       "      <td>Videojuegos, Humor</td>\n",
       "      <td>210100000.0</td>\n",
       "      <td>Estados Unidos</td>\n",
       "      <td>95400000.0</td>\n",
       "      <td>5400000.0</td>\n",
       "      <td>16600.0</td>\n",
       "      <td>http://youtube.com/channel/UCX6OQ3DkcsbYNE6H8u...</td>\n",
       "    </tr>\n",
       "    <tr>\n",
       "      <th>2</th>\n",
       "      <td>3</td>\n",
       "      <td>CoComelon</td>\n",
       "      <td>Educación</td>\n",
       "      <td>168100000.0</td>\n",
       "      <td>Unknown</td>\n",
       "      <td>4100000.0</td>\n",
       "      <td>21600.0</td>\n",
       "      <td>0.0</td>\n",
       "      <td>http://youtube.com/channel/UCbCmjCuTUZos6Inko4...</td>\n",
       "    </tr>\n",
       "    <tr>\n",
       "      <th>3</th>\n",
       "      <td>4</td>\n",
       "      <td>SETIndia</td>\n",
       "      <td>NaN</td>\n",
       "      <td>165400000.0</td>\n",
       "      <td>India</td>\n",
       "      <td>23300.0</td>\n",
       "      <td>239.0</td>\n",
       "      <td>9.0</td>\n",
       "      <td>http://youtube.com/channel/UCpEhnqL0y41EpW2TvW...</td>\n",
       "    </tr>\n",
       "    <tr>\n",
       "      <th>4</th>\n",
       "      <td>5</td>\n",
       "      <td>KidsDianaShow</td>\n",
       "      <td>Animación, Juguetes</td>\n",
       "      <td>116500000.0</td>\n",
       "      <td>Unknown</td>\n",
       "      <td>4100000.0</td>\n",
       "      <td>8800.0</td>\n",
       "      <td>0.0</td>\n",
       "      <td>http://youtube.com/channel/UCk8GzjMOrta8yxDcKf...</td>\n",
       "    </tr>\n",
       "  </tbody>\n",
       "</table>\n",
       "</div>"
      ],
      "text/plain": [
       "  Rank       Username           Categories   Suscribers         Country  \\\n",
       "0    1        tseries       Música y baile  253500000.0           India   \n",
       "1    2        MrBeast   Videojuegos, Humor  210100000.0  Estados Unidos   \n",
       "2    3      CoComelon            Educación  168100000.0         Unknown   \n",
       "3    4       SETIndia                  NaN  165400000.0           India   \n",
       "4    5  KidsDianaShow  Animación, Juguetes  116500000.0         Unknown   \n",
       "\n",
       "       Visits      Likes  Comments  \\\n",
       "0    111300.0     3200.0     120.0   \n",
       "1  95400000.0  5400000.0   16600.0   \n",
       "2   4100000.0    21600.0       0.0   \n",
       "3     23300.0      239.0       9.0   \n",
       "4   4100000.0     8800.0       0.0   \n",
       "\n",
       "                                               Links  \n",
       "0  http://youtube.com/channel/UCq-Fj5jknLsUf-MWSy...  \n",
       "1  http://youtube.com/channel/UCX6OQ3DkcsbYNE6H8u...  \n",
       "2  http://youtube.com/channel/UCbCmjCuTUZos6Inko4...  \n",
       "3  http://youtube.com/channel/UCpEhnqL0y41EpW2TvW...  \n",
       "4  http://youtube.com/channel/UCk8GzjMOrta8yxDcKf...  "
      ]
     },
     "execution_count": 7,
     "metadata": {},
     "output_type": "execute_result"
    }
   ],
   "source": [
    "Youtubedata.head()"
   ]
  },
  {
   "cell_type": "code",
   "execution_count": 8,
   "id": "c3c90dff",
   "metadata": {},
   "outputs": [],
   "source": [
    "# Display the Last five rows"
   ]
  },
  {
   "cell_type": "code",
   "execution_count": 9,
   "id": "24139f34",
   "metadata": {},
   "outputs": [
    {
     "data": {
      "text/html": [
       "<div>\n",
       "<style scoped>\n",
       "    .dataframe tbody tr th:only-of-type {\n",
       "        vertical-align: middle;\n",
       "    }\n",
       "\n",
       "    .dataframe tbody tr th {\n",
       "        vertical-align: top;\n",
       "    }\n",
       "\n",
       "    .dataframe thead th {\n",
       "        text-align: right;\n",
       "    }\n",
       "</style>\n",
       "<table border=\"1\" class=\"dataframe\">\n",
       "  <thead>\n",
       "    <tr style=\"text-align: right;\">\n",
       "      <th></th>\n",
       "      <th>Rank</th>\n",
       "      <th>Username</th>\n",
       "      <th>Categories</th>\n",
       "      <th>Suscribers</th>\n",
       "      <th>Country</th>\n",
       "      <th>Visits</th>\n",
       "      <th>Likes</th>\n",
       "      <th>Comments</th>\n",
       "      <th>Links</th>\n",
       "    </tr>\n",
       "  </thead>\n",
       "  <tbody>\n",
       "    <tr>\n",
       "      <th>995</th>\n",
       "      <td>996</td>\n",
       "      <td>morharyanvi</td>\n",
       "      <td>Música y baile</td>\n",
       "      <td>12300000.0</td>\n",
       "      <td>India</td>\n",
       "      <td>168900.0</td>\n",
       "      <td>3800.0</td>\n",
       "      <td>784.0</td>\n",
       "      <td>http://youtube.com/channel/UC_Rh_RLrouZHPf2vUF...</td>\n",
       "    </tr>\n",
       "    <tr>\n",
       "      <th>996</th>\n",
       "      <td>997</td>\n",
       "      <td>UTKARSHCLASSES13</td>\n",
       "      <td>Educación</td>\n",
       "      <td>12300000.0</td>\n",
       "      <td>India</td>\n",
       "      <td>20100.0</td>\n",
       "      <td>1300.0</td>\n",
       "      <td>47.0</td>\n",
       "      <td>http://youtube.com/channel/UCLuBF4Xr1-BIpcpFFm...</td>\n",
       "    </tr>\n",
       "    <tr>\n",
       "      <th>997</th>\n",
       "      <td>998</td>\n",
       "      <td>MBCMASRtv</td>\n",
       "      <td>NaN</td>\n",
       "      <td>12300000.0</td>\n",
       "      <td>Egipto</td>\n",
       "      <td>2300.0</td>\n",
       "      <td>40.0</td>\n",
       "      <td>4.0</td>\n",
       "      <td>http://youtube.com/channel/UCnFKsbAof9fRv614I4...</td>\n",
       "    </tr>\n",
       "    <tr>\n",
       "      <th>998</th>\n",
       "      <td>999</td>\n",
       "      <td>NFL</td>\n",
       "      <td>Deportes</td>\n",
       "      <td>12300000.0</td>\n",
       "      <td>Estados Unidos</td>\n",
       "      <td>26000.0</td>\n",
       "      <td>604.0</td>\n",
       "      <td>53.0</td>\n",
       "      <td>http://youtube.com/channel/UCDVYQ4Zhbm3S2dlz7P...</td>\n",
       "    </tr>\n",
       "    <tr>\n",
       "      <th>999</th>\n",
       "      <td>1000</td>\n",
       "      <td>MykeTowers</td>\n",
       "      <td>Música y baile</td>\n",
       "      <td>12300000.0</td>\n",
       "      <td>Colombia</td>\n",
       "      <td>96100.0</td>\n",
       "      <td>3400.0</td>\n",
       "      <td>128.0</td>\n",
       "      <td>http://youtube.com/channel/UCLk8IJ1TwI7Xl7UUfA...</td>\n",
       "    </tr>\n",
       "  </tbody>\n",
       "</table>\n",
       "</div>"
      ],
      "text/plain": [
       "     Rank          Username      Categories  Suscribers         Country  \\\n",
       "995   996       morharyanvi  Música y baile  12300000.0           India   \n",
       "996   997  UTKARSHCLASSES13       Educación  12300000.0           India   \n",
       "997   998         MBCMASRtv             NaN  12300000.0          Egipto   \n",
       "998   999               NFL        Deportes  12300000.0  Estados Unidos   \n",
       "999  1000        MykeTowers  Música y baile  12300000.0        Colombia   \n",
       "\n",
       "       Visits   Likes  Comments  \\\n",
       "995  168900.0  3800.0     784.0   \n",
       "996   20100.0  1300.0      47.0   \n",
       "997    2300.0    40.0       4.0   \n",
       "998   26000.0   604.0      53.0   \n",
       "999   96100.0  3400.0     128.0   \n",
       "\n",
       "                                                 Links  \n",
       "995  http://youtube.com/channel/UC_Rh_RLrouZHPf2vUF...  \n",
       "996  http://youtube.com/channel/UCLuBF4Xr1-BIpcpFFm...  \n",
       "997  http://youtube.com/channel/UCnFKsbAof9fRv614I4...  \n",
       "998  http://youtube.com/channel/UCDVYQ4Zhbm3S2dlz7P...  \n",
       "999  http://youtube.com/channel/UCLk8IJ1TwI7Xl7UUfA...  "
      ]
     },
     "execution_count": 9,
     "metadata": {},
     "output_type": "execute_result"
    }
   ],
   "source": [
    "Youtubedata.tail()"
   ]
  },
  {
   "cell_type": "code",
   "execution_count": 10,
   "id": "b95a8138",
   "metadata": {},
   "outputs": [],
   "source": [
    "# Summary statistics of the numerical columns"
   ]
  },
  {
   "cell_type": "code",
   "execution_count": 11,
   "id": "516c06c8",
   "metadata": {},
   "outputs": [
    {
     "data": {
      "text/html": [
       "<div>\n",
       "<style scoped>\n",
       "    .dataframe tbody tr th:only-of-type {\n",
       "        vertical-align: middle;\n",
       "    }\n",
       "\n",
       "    .dataframe tbody tr th {\n",
       "        vertical-align: top;\n",
       "    }\n",
       "\n",
       "    .dataframe thead th {\n",
       "        text-align: right;\n",
       "    }\n",
       "</style>\n",
       "<table border=\"1\" class=\"dataframe\">\n",
       "  <thead>\n",
       "    <tr style=\"text-align: right;\">\n",
       "      <th></th>\n",
       "      <th>Suscribers</th>\n",
       "      <th>Visits</th>\n",
       "      <th>Likes</th>\n",
       "      <th>Comments</th>\n",
       "    </tr>\n",
       "  </thead>\n",
       "  <tbody>\n",
       "    <tr>\n",
       "      <th>count</th>\n",
       "      <td>1.000000e+03</td>\n",
       "      <td>1.000000e+03</td>\n",
       "      <td>1.000000e+03</td>\n",
       "      <td>1000.000000</td>\n",
       "    </tr>\n",
       "    <tr>\n",
       "      <th>mean</th>\n",
       "      <td>2.260980e+07</td>\n",
       "      <td>1.063825e+06</td>\n",
       "      <td>4.917148e+04</td>\n",
       "      <td>1866.295000</td>\n",
       "    </tr>\n",
       "    <tr>\n",
       "      <th>std</th>\n",
       "      <td>1.733998e+07</td>\n",
       "      <td>3.729356e+06</td>\n",
       "      <td>2.107156e+05</td>\n",
       "      <td>20503.291953</td>\n",
       "    </tr>\n",
       "    <tr>\n",
       "      <th>min</th>\n",
       "      <td>1.230000e+07</td>\n",
       "      <td>0.000000e+00</td>\n",
       "      <td>0.000000e+00</td>\n",
       "      <td>0.000000</td>\n",
       "    </tr>\n",
       "    <tr>\n",
       "      <th>25%</th>\n",
       "      <td>1.430000e+07</td>\n",
       "      <td>3.310000e+04</td>\n",
       "      <td>4.792500e+02</td>\n",
       "      <td>3.000000</td>\n",
       "    </tr>\n",
       "    <tr>\n",
       "      <th>50%</th>\n",
       "      <td>1.730000e+07</td>\n",
       "      <td>1.932000e+05</td>\n",
       "      <td>3.400000e+03</td>\n",
       "      <td>70.000000</td>\n",
       "    </tr>\n",
       "    <tr>\n",
       "      <th>75%</th>\n",
       "      <td>2.442500e+07</td>\n",
       "      <td>8.844500e+05</td>\n",
       "      <td>3.080000e+04</td>\n",
       "      <td>458.250000</td>\n",
       "    </tr>\n",
       "    <tr>\n",
       "      <th>max</th>\n",
       "      <td>2.535000e+08</td>\n",
       "      <td>9.540000e+07</td>\n",
       "      <td>5.400000e+06</td>\n",
       "      <td>532000.000000</td>\n",
       "    </tr>\n",
       "  </tbody>\n",
       "</table>\n",
       "</div>"
      ],
      "text/plain": [
       "         Suscribers        Visits         Likes       Comments\n",
       "count  1.000000e+03  1.000000e+03  1.000000e+03    1000.000000\n",
       "mean   2.260980e+07  1.063825e+06  4.917148e+04    1866.295000\n",
       "std    1.733998e+07  3.729356e+06  2.107156e+05   20503.291953\n",
       "min    1.230000e+07  0.000000e+00  0.000000e+00       0.000000\n",
       "25%    1.430000e+07  3.310000e+04  4.792500e+02       3.000000\n",
       "50%    1.730000e+07  1.932000e+05  3.400000e+03      70.000000\n",
       "75%    2.442500e+07  8.844500e+05  3.080000e+04     458.250000\n",
       "max    2.535000e+08  9.540000e+07  5.400000e+06  532000.000000"
      ]
     },
     "execution_count": 11,
     "metadata": {},
     "output_type": "execute_result"
    }
   ],
   "source": [
    "Youtubedata.describe()"
   ]
  },
  {
   "cell_type": "code",
   "execution_count": 12,
   "id": "af4c9369",
   "metadata": {},
   "outputs": [],
   "source": [
    "# Information about the columns (data types, null values)"
   ]
  },
  {
   "cell_type": "code",
   "execution_count": 13,
   "id": "9b43dbfc",
   "metadata": {},
   "outputs": [
    {
     "name": "stdout",
     "output_type": "stream",
     "text": [
      "<class 'pandas.core.frame.DataFrame'>\n",
      "RangeIndex: 1000 entries, 0 to 999\n",
      "Data columns (total 9 columns):\n",
      " #   Column      Non-Null Count  Dtype  \n",
      "---  ------      --------------  -----  \n",
      " 0   Rank        1000 non-null   object \n",
      " 1   Username    1000 non-null   object \n",
      " 2   Categories  676 non-null    object \n",
      " 3   Suscribers  1000 non-null   float64\n",
      " 4   Country     1000 non-null   object \n",
      " 5   Visits      1000 non-null   float64\n",
      " 6   Likes       1000 non-null   float64\n",
      " 7   Comments    1000 non-null   float64\n",
      " 8   Links       1000 non-null   object \n",
      "dtypes: float64(4), object(5)\n",
      "memory usage: 50.8+ KB\n"
     ]
    }
   ],
   "source": [
    "Youtubedata.info()"
   ]
  },
  {
   "cell_type": "code",
   "execution_count": 14,
   "id": "28385e31",
   "metadata": {},
   "outputs": [
    {
     "data": {
      "text/plain": [
       "Index(['Rank', 'Username', 'Categories', 'Suscribers', 'Country', 'Visits',\n",
       "       'Likes', 'Comments', 'Links'],\n",
       "      dtype='object')"
      ]
     },
     "execution_count": 14,
     "metadata": {},
     "output_type": "execute_result"
    }
   ],
   "source": [
    "Youtubedata.columns"
   ]
  },
  {
   "cell_type": "code",
   "execution_count": 15,
   "id": "1872da2b",
   "metadata": {},
   "outputs": [],
   "source": [
    "Youtubedata.rename(columns = {'Suscribers' : 'Subscribers'}, inplace = True)"
   ]
  },
  {
   "cell_type": "code",
   "execution_count": 16,
   "id": "19e4c932",
   "metadata": {},
   "outputs": [
    {
     "data": {
      "text/plain": [
       "Index(['Rank', 'Username', 'Categories', 'Subscribers', 'Country', 'Visits',\n",
       "       'Likes', 'Comments', 'Links'],\n",
       "      dtype='object')"
      ]
     },
     "execution_count": 16,
     "metadata": {},
     "output_type": "execute_result"
    }
   ],
   "source": [
    "Youtubedata.columns"
   ]
  },
  {
   "cell_type": "code",
   "execution_count": 17,
   "id": "e59bba59",
   "metadata": {},
   "outputs": [],
   "source": [
    "# Data Cleaning\n",
    "# Checking for missing values"
   ]
  },
  {
   "cell_type": "code",
   "execution_count": 18,
   "id": "5027675f",
   "metadata": {},
   "outputs": [
    {
     "data": {
      "text/plain": [
       "Rank             0\n",
       "Username         0\n",
       "Categories     324\n",
       "Subscribers      0\n",
       "Country          0\n",
       "Visits           0\n",
       "Likes            0\n",
       "Comments         0\n",
       "Links            0\n",
       "dtype: int64"
      ]
     },
     "execution_count": 18,
     "metadata": {},
     "output_type": "execute_result"
    }
   ],
   "source": [
    "Youtubedata.isnull().sum()"
   ]
  },
  {
   "cell_type": "code",
   "execution_count": 19,
   "id": "08207536",
   "metadata": {},
   "outputs": [
    {
     "data": {
      "text/html": [
       "<div>\n",
       "<style scoped>\n",
       "    .dataframe tbody tr th:only-of-type {\n",
       "        vertical-align: middle;\n",
       "    }\n",
       "\n",
       "    .dataframe tbody tr th {\n",
       "        vertical-align: top;\n",
       "    }\n",
       "\n",
       "    .dataframe thead th {\n",
       "        text-align: right;\n",
       "    }\n",
       "</style>\n",
       "<table border=\"1\" class=\"dataframe\">\n",
       "  <thead>\n",
       "    <tr style=\"text-align: right;\">\n",
       "      <th></th>\n",
       "      <th>Rank</th>\n",
       "      <th>Username</th>\n",
       "      <th>Categories</th>\n",
       "      <th>Subscribers</th>\n",
       "      <th>Country</th>\n",
       "      <th>Visits</th>\n",
       "      <th>Likes</th>\n",
       "      <th>Comments</th>\n",
       "      <th>Links</th>\n",
       "    </tr>\n",
       "  </thead>\n",
       "  <tbody>\n",
       "    <tr>\n",
       "      <th>0</th>\n",
       "      <td>False</td>\n",
       "      <td>False</td>\n",
       "      <td>False</td>\n",
       "      <td>False</td>\n",
       "      <td>False</td>\n",
       "      <td>False</td>\n",
       "      <td>False</td>\n",
       "      <td>False</td>\n",
       "      <td>False</td>\n",
       "    </tr>\n",
       "    <tr>\n",
       "      <th>1</th>\n",
       "      <td>False</td>\n",
       "      <td>False</td>\n",
       "      <td>False</td>\n",
       "      <td>False</td>\n",
       "      <td>False</td>\n",
       "      <td>False</td>\n",
       "      <td>False</td>\n",
       "      <td>False</td>\n",
       "      <td>False</td>\n",
       "    </tr>\n",
       "    <tr>\n",
       "      <th>2</th>\n",
       "      <td>False</td>\n",
       "      <td>False</td>\n",
       "      <td>False</td>\n",
       "      <td>False</td>\n",
       "      <td>False</td>\n",
       "      <td>False</td>\n",
       "      <td>False</td>\n",
       "      <td>False</td>\n",
       "      <td>False</td>\n",
       "    </tr>\n",
       "    <tr>\n",
       "      <th>3</th>\n",
       "      <td>False</td>\n",
       "      <td>False</td>\n",
       "      <td>True</td>\n",
       "      <td>False</td>\n",
       "      <td>False</td>\n",
       "      <td>False</td>\n",
       "      <td>False</td>\n",
       "      <td>False</td>\n",
       "      <td>False</td>\n",
       "    </tr>\n",
       "    <tr>\n",
       "      <th>4</th>\n",
       "      <td>False</td>\n",
       "      <td>False</td>\n",
       "      <td>False</td>\n",
       "      <td>False</td>\n",
       "      <td>False</td>\n",
       "      <td>False</td>\n",
       "      <td>False</td>\n",
       "      <td>False</td>\n",
       "      <td>False</td>\n",
       "    </tr>\n",
       "    <tr>\n",
       "      <th>...</th>\n",
       "      <td>...</td>\n",
       "      <td>...</td>\n",
       "      <td>...</td>\n",
       "      <td>...</td>\n",
       "      <td>...</td>\n",
       "      <td>...</td>\n",
       "      <td>...</td>\n",
       "      <td>...</td>\n",
       "      <td>...</td>\n",
       "    </tr>\n",
       "    <tr>\n",
       "      <th>995</th>\n",
       "      <td>False</td>\n",
       "      <td>False</td>\n",
       "      <td>False</td>\n",
       "      <td>False</td>\n",
       "      <td>False</td>\n",
       "      <td>False</td>\n",
       "      <td>False</td>\n",
       "      <td>False</td>\n",
       "      <td>False</td>\n",
       "    </tr>\n",
       "    <tr>\n",
       "      <th>996</th>\n",
       "      <td>False</td>\n",
       "      <td>False</td>\n",
       "      <td>False</td>\n",
       "      <td>False</td>\n",
       "      <td>False</td>\n",
       "      <td>False</td>\n",
       "      <td>False</td>\n",
       "      <td>False</td>\n",
       "      <td>False</td>\n",
       "    </tr>\n",
       "    <tr>\n",
       "      <th>997</th>\n",
       "      <td>False</td>\n",
       "      <td>False</td>\n",
       "      <td>True</td>\n",
       "      <td>False</td>\n",
       "      <td>False</td>\n",
       "      <td>False</td>\n",
       "      <td>False</td>\n",
       "      <td>False</td>\n",
       "      <td>False</td>\n",
       "    </tr>\n",
       "    <tr>\n",
       "      <th>998</th>\n",
       "      <td>False</td>\n",
       "      <td>False</td>\n",
       "      <td>False</td>\n",
       "      <td>False</td>\n",
       "      <td>False</td>\n",
       "      <td>False</td>\n",
       "      <td>False</td>\n",
       "      <td>False</td>\n",
       "      <td>False</td>\n",
       "    </tr>\n",
       "    <tr>\n",
       "      <th>999</th>\n",
       "      <td>False</td>\n",
       "      <td>False</td>\n",
       "      <td>False</td>\n",
       "      <td>False</td>\n",
       "      <td>False</td>\n",
       "      <td>False</td>\n",
       "      <td>False</td>\n",
       "      <td>False</td>\n",
       "      <td>False</td>\n",
       "    </tr>\n",
       "  </tbody>\n",
       "</table>\n",
       "<p>1000 rows × 9 columns</p>\n",
       "</div>"
      ],
      "text/plain": [
       "      Rank  Username  Categories  Subscribers  Country  Visits  Likes  \\\n",
       "0    False     False       False        False    False   False  False   \n",
       "1    False     False       False        False    False   False  False   \n",
       "2    False     False       False        False    False   False  False   \n",
       "3    False     False        True        False    False   False  False   \n",
       "4    False     False       False        False    False   False  False   \n",
       "..     ...       ...         ...          ...      ...     ...    ...   \n",
       "995  False     False       False        False    False   False  False   \n",
       "996  False     False       False        False    False   False  False   \n",
       "997  False     False        True        False    False   False  False   \n",
       "998  False     False       False        False    False   False  False   \n",
       "999  False     False       False        False    False   False  False   \n",
       "\n",
       "     Comments  Links  \n",
       "0       False  False  \n",
       "1       False  False  \n",
       "2       False  False  \n",
       "3       False  False  \n",
       "4       False  False  \n",
       "..        ...    ...  \n",
       "995     False  False  \n",
       "996     False  False  \n",
       "997     False  False  \n",
       "998     False  False  \n",
       "999     False  False  \n",
       "\n",
       "[1000 rows x 9 columns]"
      ]
     },
     "execution_count": 19,
     "metadata": {},
     "output_type": "execute_result"
    }
   ],
   "source": [
    "Youtubedata.isnull()"
   ]
  },
  {
   "cell_type": "code",
   "execution_count": 20,
   "id": "9bdca2d0",
   "metadata": {},
   "outputs": [],
   "source": [
    "# Show the null vallues in the heatmap"
   ]
  },
  {
   "cell_type": "code",
   "execution_count": 21,
   "id": "d9f9c3f2",
   "metadata": {},
   "outputs": [
    {
     "data": {
      "image/png": "[encoded data removed]",
      "text/plain": [
       "<Figure size 432x288 with 2 Axes>"
      ]
     },
     "metadata": {
      "needs_background": "light"
     },
     "output_type": "display_data"
    }
   ],
   "source": [
    "sns.heatmap(Youtubedata.isnull())\n",
    "plt.show()"
   ]
  },
  {
   "cell_type": "code",
   "execution_count": 22,
   "id": "77054934",
   "metadata": {},
   "outputs": [],
   "source": [
    "# Drop rows with missing values\n",
    "Youtubedata = Youtubedata.dropna()"
   ]
  },
  {
   "cell_type": "code",
   "execution_count": 23,
   "id": "93164c43",
   "metadata": {},
   "outputs": [
    {
     "data": {
      "text/plain": [
       "Rank           0\n",
       "Username       0\n",
       "Categories     0\n",
       "Subscribers    0\n",
       "Country        0\n",
       "Visits         0\n",
       "Likes          0\n",
       "Comments       0\n",
       "Links          0\n",
       "dtype: int64"
      ]
     },
     "execution_count": 23,
     "metadata": {},
     "output_type": "execute_result"
    }
   ],
   "source": [
    "Youtubedata.isna().sum()"
   ]
  },
  {
   "cell_type": "code",
   "execution_count": 24,
   "id": "f36c6248",
   "metadata": {},
   "outputs": [],
   "source": [
    "# Checking of Duplication Datas"
   ]
  },
  {
   "cell_type": "code",
   "execution_count": 25,
   "id": "83556b38",
   "metadata": {},
   "outputs": [
    {
     "data": {
      "text/plain": [
       "0      False\n",
       "1      False\n",
       "2      False\n",
       "4      False\n",
       "5      False\n",
       "       ...  \n",
       "993    False\n",
       "995    False\n",
       "996    False\n",
       "998    False\n",
       "999    False\n",
       "Length: 676, dtype: bool"
      ]
     },
     "execution_count": 25,
     "metadata": {},
     "output_type": "execute_result"
    }
   ],
   "source": [
    "Youtubedata.duplicated()"
   ]
  },
  {
   "cell_type": "code",
   "execution_count": 26,
   "id": "8ef63c32",
   "metadata": {},
   "outputs": [],
   "source": [
    "# Checking For Outliers and removal\n",
    "# The Distribution and Box plot of subcribers, visits, likes and comments"
   ]
  },
  {
   "cell_type": "code",
   "execution_count": 27,
   "id": "dec1bfcd",
   "metadata": {},
   "outputs": [],
   "source": [
    "# The Distribution plot of subcribers"
   ]
  },
  {
   "cell_type": "code",
   "execution_count": 28,
   "id": "3b39953e",
   "metadata": {},
   "outputs": [
    {
     "data": {
      "text/plain": [
       "<AxesSubplot:xlabel='Subscribers', ylabel='Count'>"
      ]
     },
     "execution_count": 28,
     "metadata": {},
     "output_type": "execute_result"
    },
    {
     "data": {
      "image/png": "[encoded data removed]",
      "text/plain": [
       "<Figure size 432x288 with 1 Axes>"
      ]
     },
     "metadata": {
      "needs_background": "light"
     },
     "output_type": "display_data"
    }
   ],
   "source": [
    "sns.histplot(Youtubedata['Subscribers'], bins = 32)"
   ]
  },
  {
   "cell_type": "code",
   "execution_count": 29,
   "id": "4c106c05",
   "metadata": {},
   "outputs": [],
   "source": [
    "# The Box plot of subcribers"
   ]
  },
  {
   "cell_type": "code",
   "execution_count": 30,
   "id": "f46c7716",
   "metadata": {},
   "outputs": [
    {
     "data": {
      "text/plain": [
       "<AxesSubplot:xlabel='Subscribers'>"
      ]
     },
     "execution_count": 30,
     "metadata": {},
     "output_type": "execute_result"
    },
    {
     "data": {
      "image/png": "[encoded data removed]",
      "text/plain": [
       "<Figure size 432x288 with 1 Axes>"
      ]
     },
     "metadata": {
      "needs_background": "light"
     },
     "output_type": "display_data"
    }
   ],
   "source": [
    "sns.boxplot(Youtubedata['Subscribers'])"
   ]
  },
  {
   "cell_type": "code",
   "execution_count": 31,
   "id": "5220726c",
   "metadata": {},
   "outputs": [],
   "source": [
    "# The Distribution plot of visits"
   ]
  },
  {
   "cell_type": "code",
   "execution_count": 32,
   "id": "6edae292",
   "metadata": {},
   "outputs": [
    {
     "data": {
      "text/plain": [
       "<AxesSubplot:xlabel='Visits', ylabel='Count'>"
      ]
     },
     "execution_count": 32,
     "metadata": {},
     "output_type": "execute_result"
    },
    {
     "data": {
      "image/png": "[encoded data removed]",
      "text/plain": [
       "<Figure size 432x288 with 1 Axes>"
      ]
     },
     "metadata": {
      "needs_background": "light"
     },
     "output_type": "display_data"
    }
   ],
   "source": [
    "sns.histplot(Youtubedata['Visits'], bins = 32)"
   ]
  },
  {
   "cell_type": "code",
   "execution_count": 33,
   "id": "581b301f",
   "metadata": {},
   "outputs": [],
   "source": [
    "# The Box plot of visits "
   ]
  },
  {
   "cell_type": "code",
   "execution_count": 34,
   "id": "5c59754b",
   "metadata": {},
   "outputs": [
    {
     "data": {
      "text/plain": [
       "<AxesSubplot:xlabel='Visits'>"
      ]
     },
     "execution_count": 34,
     "metadata": {},
     "output_type": "execute_result"
    },
    {
     "data": {
      "image/png": "[encoded data removed]",
      "text/plain": [
       "<Figure size 432x288 with 1 Axes>"
      ]
     },
     "metadata": {
      "needs_background": "light"
     },
     "output_type": "display_data"
    }
   ],
   "source": [
    "sns.boxplot(Youtubedata['Visits'])"
   ]
  },
  {
   "cell_type": "code",
   "execution_count": 35,
   "id": "a2b5fc11",
   "metadata": {},
   "outputs": [],
   "source": [
    "# The Distribution plot of comments"
   ]
  },
  {
   "cell_type": "code",
   "execution_count": 36,
   "id": "2a87e0b0",
   "metadata": {},
   "outputs": [
    {
     "data": {
      "text/plain": [
       "<AxesSubplot:xlabel='Comments', ylabel='Count'>"
      ]
     },
     "execution_count": 36,
     "metadata": {},
     "output_type": "execute_result"
    },
    {
     "data": {
      "image/png": "[encoded data removed]",
      "text/plain": [
       "<Figure size 432x288 with 1 Axes>"
      ]
     },
     "metadata": {
      "needs_background": "light"
     },
     "output_type": "display_data"
    }
   ],
   "source": [
    "sns.histplot(Youtubedata['Comments'], bins = 32)"
   ]
  },
  {
   "cell_type": "code",
   "execution_count": 37,
   "id": "686e230b",
   "metadata": {},
   "outputs": [],
   "source": [
    "# The Box plot of comments"
   ]
  },
  {
   "cell_type": "code",
   "execution_count": 38,
   "id": "2d57ab07",
   "metadata": {},
   "outputs": [
    {
     "data": {
      "text/plain": [
       "<AxesSubplot:xlabel='Comments'>"
      ]
     },
     "execution_count": 38,
     "metadata": {},
     "output_type": "execute_result"
    },
    {
     "data": {
      "image/png": "[encoded data removed]",
      "text/plain": [
       "<Figure size 432x288 with 1 Axes>"
      ]
     },
     "metadata": {
      "needs_background": "light"
     },
     "output_type": "display_data"
    }
   ],
   "source": [
    "sns.boxplot(Youtubedata['Comments'])"
   ]
  },
  {
   "cell_type": "code",
   "execution_count": 39,
   "id": "d6a61ee7",
   "metadata": {},
   "outputs": [],
   "source": [
    "# The Dstribution plot of Likes"
   ]
  },
  {
   "cell_type": "code",
   "execution_count": 40,
   "id": "c721ef08",
   "metadata": {},
   "outputs": [
    {
     "data": {
      "text/plain": [
       "<AxesSubplot:xlabel='Likes', ylabel='Count'>"
      ]
     },
     "execution_count": 40,
     "metadata": {},
     "output_type": "execute_result"
    },
    {
     "data": {
      "image/png": "[encoded data removed]",
      "text/plain": [
       "<Figure size 432x288 with 1 Axes>"
      ]
     },
     "metadata": {
      "needs_background": "light"
     },
     "output_type": "display_data"
    }
   ],
   "source": [
    "sns.histplot(Youtubedata['Likes'], bins = 32)"
   ]
  },
  {
   "cell_type": "code",
   "execution_count": 41,
   "id": "7d40661b",
   "metadata": {},
   "outputs": [],
   "source": [
    "# The Box plot of likes "
   ]
  },
  {
   "cell_type": "code",
   "execution_count": 42,
   "id": "0733655a",
   "metadata": {},
   "outputs": [
    {
     "data": {
      "text/plain": [
       "<AxesSubplot:xlabel='Likes'>"
      ]
     },
     "execution_count": 42,
     "metadata": {},
     "output_type": "execute_result"
    },
    {
     "data": {
      "image/png": "[encoded data removed]",
      "text/plain": [
       "<Figure size 432x288 with 1 Axes>"
      ]
     },
     "metadata": {
      "needs_background": "light"
     },
     "output_type": "display_data"
    }
   ],
   "source": [
    "sns.boxplot(Youtubedata['Likes'])"
   ]
  },
  {
   "cell_type": "code",
   "execution_count": 43,
   "id": "c6e3e577",
   "metadata": {},
   "outputs": [],
   "source": [
    "# Removal of outliers using IQR method"
   ]
  },
  {
   "cell_type": "code",
   "execution_count": 44,
   "id": "4a2762f2",
   "metadata": {},
   "outputs": [],
   "source": [
    "# Outliers removal in subscribers"
   ]
  },
  {
   "cell_type": "code",
   "execution_count": 45,
   "id": "6e2209c9",
   "metadata": {},
   "outputs": [],
   "source": [
    "Q1 = Youtubedata['Subscribers'].quantile(0.25)\n",
    "Q3 = Youtubedata['Subscribers'].quantile(0.75)\n",
    "IQR = Q3 - Q1"
   ]
  },
  {
   "cell_type": "code",
   "execution_count": 46,
   "id": "6e256ba5",
   "metadata": {},
   "outputs": [
    {
     "data": {
      "text/plain": [
       "10300000.0"
      ]
     },
     "execution_count": 46,
     "metadata": {},
     "output_type": "execute_result"
    }
   ],
   "source": [
    "IQR"
   ]
  },
  {
   "cell_type": "code",
   "execution_count": 47,
   "id": "95d14eea",
   "metadata": {},
   "outputs": [],
   "source": [
    "upper_limit = Q3 + (1.5 * IQR)\n",
    "lower_limit = Q1 - (1.5 * IQR)"
   ]
  },
  {
   "cell_type": "code",
   "execution_count": 48,
   "id": "cf9658fa",
   "metadata": {},
   "outputs": [
    {
     "name": "stdout",
     "output_type": "stream",
     "text": [
      "40250000.0 -950000.0\n"
     ]
    }
   ],
   "source": [
    "print(upper_limit, lower_limit)"
   ]
  },
  {
   "cell_type": "code",
   "execution_count": 49,
   "id": "8c0c85ea",
   "metadata": {},
   "outputs": [],
   "source": [
    "# Removal of outliers using Capping method\n",
    "# Capping - Change the outlier values to upper or lower limit values"
   ]
  },
  {
   "cell_type": "code",
   "execution_count": 50,
   "id": "154d2123",
   "metadata": {},
   "outputs": [],
   "source": [
    "newYoutubedata = Youtubedata.copy()"
   ]
  },
  {
   "cell_type": "code",
   "execution_count": 51,
   "id": "ebd9b6c4",
   "metadata": {},
   "outputs": [],
   "source": [
    "newYoutubedata.loc[(newYoutubedata['Subscribers'] >= upper_limit),'Subscribers'] = upper_limit\n",
    "newYoutubedata.loc[(newYoutubedata['Subscribers'] <= lower_limit),'Subscribers'] = lower_limit      "
   ]
  },
  {
   "cell_type": "code",
   "execution_count": 52,
   "id": "1250002b",
   "metadata": {},
   "outputs": [
    {
     "data": {
      "text/plain": [
       "<AxesSubplot:xlabel='Subscribers'>"
      ]
     },
     "execution_count": 52,
     "metadata": {},
     "output_type": "execute_result"
    },
    {
     "data": {
      "image/png": "[encoded data removed]",
      "text/plain": [
       "<Figure size 432x288 with 1 Axes>"
      ]
     },
     "metadata": {
      "needs_background": "light"
     },
     "output_type": "display_data"
    }
   ],
   "source": [
    "sns.boxplot(newYoutubedata['Subscribers'])"
   ]
  },
  {
   "cell_type": "code",
   "execution_count": 53,
   "id": "44a5cc5f",
   "metadata": {},
   "outputs": [],
   "source": [
    "# Outliers removal in Comments"
   ]
  },
  {
   "cell_type": "code",
   "execution_count": 54,
   "id": "b07fa920",
   "metadata": {},
   "outputs": [],
   "source": [
    "Q1 = Youtubedata['Comments'].quantile(0.25)\n",
    "Q3 = Youtubedata['Comments'].quantile(0.75)\n",
    "IQR = Q3 - Q1"
   ]
  },
  {
   "cell_type": "code",
   "execution_count": 55,
   "id": "7b6d28e7",
   "metadata": {},
   "outputs": [
    {
     "data": {
      "text/plain": [
       "501.5"
      ]
     },
     "execution_count": 55,
     "metadata": {},
     "output_type": "execute_result"
    }
   ],
   "source": [
    "IQR"
   ]
  },
  {
   "cell_type": "code",
   "execution_count": 56,
   "id": "09bd081d",
   "metadata": {},
   "outputs": [],
   "source": [
    "upper_limit = Q3 + (1.5 * IQR)\n",
    "lower_limit = Q1 - (1.5 * IQR)"
   ]
  },
  {
   "cell_type": "code",
   "execution_count": 57,
   "id": "90609770",
   "metadata": {},
   "outputs": [
    {
     "name": "stdout",
     "output_type": "stream",
     "text": [
      "1257.5 -748.5\n"
     ]
    }
   ],
   "source": [
    "print(upper_limit, lower_limit)"
   ]
  },
  {
   "cell_type": "code",
   "execution_count": 58,
   "id": "760058fd",
   "metadata": {},
   "outputs": [],
   "source": [
    "# Removal of outliers using Capping method\n",
    "# Capping - Change the outlier values to upper or lower limit values"
   ]
  },
  {
   "cell_type": "code",
   "execution_count": 59,
   "id": "8f21b37b",
   "metadata": {},
   "outputs": [],
   "source": [
    "newYoutubedata = Youtubedata.copy()"
   ]
  },
  {
   "cell_type": "code",
   "execution_count": 60,
   "id": "bd8398b8",
   "metadata": {},
   "outputs": [],
   "source": [
    "newYoutubedata.loc[(newYoutubedata['Comments'] >= upper_limit),'Comments'] = upper_limit\n",
    "newYoutubedata.loc[(newYoutubedata['Comments'] <= lower_limit),'Comments'] = lower_limit                "
   ]
  },
  {
   "cell_type": "code",
   "execution_count": 61,
   "id": "3c0e32fc",
   "metadata": {},
   "outputs": [
    {
     "data": {
      "text/plain": [
       "<AxesSubplot:xlabel='Comments'>"
      ]
     },
     "execution_count": 61,
     "metadata": {},
     "output_type": "execute_result"
    },
    {
     "data": {
      "image/png": "[encoded data removed]",
      "text/plain": [
       "<Figure size 432x288 with 1 Axes>"
      ]
     },
     "metadata": {
      "needs_background": "light"
     },
     "output_type": "display_data"
    }
   ],
   "source": [
    "sns.boxplot(newYoutubedata['Comments'])"
   ]
  },
  {
   "cell_type": "code",
   "execution_count": 62,
   "id": "64b40688",
   "metadata": {},
   "outputs": [],
   "source": [
    "# Outliers removal in Visits"
   ]
  },
  {
   "cell_type": "code",
   "execution_count": 63,
   "id": "c5ce88c0",
   "metadata": {},
   "outputs": [],
   "source": [
    "Q1 = Youtubedata['Visits'].quantile(0.25)\n",
    "Q3 = Youtubedata['Visits'].quantile(0.75)\n",
    "IQR = Q3 - Q1"
   ]
  },
  {
   "cell_type": "code",
   "execution_count": 64,
   "id": "215d2149",
   "metadata": {},
   "outputs": [
    {
     "data": {
      "text/plain": [
       "752400.0"
      ]
     },
     "execution_count": 64,
     "metadata": {},
     "output_type": "execute_result"
    }
   ],
   "source": [
    "IQR"
   ]
  },
  {
   "cell_type": "code",
   "execution_count": 65,
   "id": "a03d0b43",
   "metadata": {},
   "outputs": [],
   "source": [
    "upper_limit = Q3 + (1.5 * IQR)\n",
    "lower_limit = Q1 - (1.5 * IQR)"
   ]
  },
  {
   "cell_type": "code",
   "execution_count": 66,
   "id": "a9bdb4ee",
   "metadata": {},
   "outputs": [
    {
     "name": "stdout",
     "output_type": "stream",
     "text": [
      "1916225.0 -1093375.0\n"
     ]
    }
   ],
   "source": [
    "print(upper_limit, lower_limit)"
   ]
  },
  {
   "cell_type": "code",
   "execution_count": 67,
   "id": "eef7f79b",
   "metadata": {},
   "outputs": [],
   "source": [
    "# Removal of outliers using Capping method\n",
    "# Capping - Change the outlier values to upper or lower limit values"
   ]
  },
  {
   "cell_type": "code",
   "execution_count": 68,
   "id": "888e4ea8",
   "metadata": {},
   "outputs": [],
   "source": [
    "newYoutubedata = Youtubedata.copy()"
   ]
  },
  {
   "cell_type": "code",
   "execution_count": 69,
   "id": "e25f43a4",
   "metadata": {},
   "outputs": [],
   "source": [
    "newYoutubedata.loc[(newYoutubedata['Visits'] >= upper_limit),'Visits'] = upper_limit\n",
    "newYoutubedata.loc[(newYoutubedata['Visits'] <= lower_limit),'Visits'] = lower_limit  "
   ]
  },
  {
   "cell_type": "code",
   "execution_count": 70,
   "id": "f02d7183",
   "metadata": {},
   "outputs": [
    {
     "data": {
      "text/plain": [
       "<AxesSubplot:xlabel='Visits'>"
      ]
     },
     "execution_count": 70,
     "metadata": {},
     "output_type": "execute_result"
    },
    {
     "data": {
      "image/png": "[encoded data removed]",
      "text/plain": [
       "<Figure size 432x288 with 1 Axes>"
      ]
     },
     "metadata": {
      "needs_background": "light"
     },
     "output_type": "display_data"
    }
   ],
   "source": [
    "sns.boxplot(newYoutubedata['Visits'])"
   ]
  },
  {
   "cell_type": "code",
   "execution_count": 71,
   "id": "7f877001",
   "metadata": {},
   "outputs": [],
   "source": [
    "# Outliers removal in Likes"
   ]
  },
  {
   "cell_type": "code",
   "execution_count": 72,
   "id": "d7fe741b",
   "metadata": {},
   "outputs": [],
   "source": [
    "Q1 = Youtubedata['Likes'].quantile(0.25)\n",
    "Q3 = Youtubedata['Likes'].quantile(0.75)\n",
    "IQR = Q3 - Q1"
   ]
  },
  {
   "cell_type": "code",
   "execution_count": 73,
   "id": "a04436ea",
   "metadata": {},
   "outputs": [
    {
     "data": {
      "text/plain": [
       "21592.75"
      ]
     },
     "execution_count": 73,
     "metadata": {},
     "output_type": "execute_result"
    }
   ],
   "source": [
    "IQR"
   ]
  },
  {
   "cell_type": "code",
   "execution_count": 74,
   "id": "fd208b5d",
   "metadata": {},
   "outputs": [],
   "source": [
    "upper_limit = Q3 + (1.5 * IQR)\n",
    "lower_limit = Q1 - (1.5 * IQR)"
   ]
  },
  {
   "cell_type": "code",
   "execution_count": 75,
   "id": "f3026136",
   "metadata": {},
   "outputs": [
    {
     "name": "stdout",
     "output_type": "stream",
     "text": [
      "-31806.875 54564.125\n"
     ]
    }
   ],
   "source": [
    "print(lower_limit, upper_limit)"
   ]
  },
  {
   "cell_type": "code",
   "execution_count": 76,
   "id": "95ac217c",
   "metadata": {},
   "outputs": [],
   "source": [
    "# Removal of outliers using Capping method\n",
    "# Capping - Change the outlier values to upper or lower limit values"
   ]
  },
  {
   "cell_type": "code",
   "execution_count": 77,
   "id": "ef97f828",
   "metadata": {},
   "outputs": [],
   "source": [
    "newYoutubedata = Youtubedata.copy()"
   ]
  },
  {
   "cell_type": "code",
   "execution_count": 78,
   "id": "cbaa0ed7",
   "metadata": {},
   "outputs": [],
   "source": [
    "newYoutubedata.loc[(newYoutubedata['Likes'] >= upper_limit),'Likes'] = upper_limit\n",
    "newYoutubedata.loc[(newYoutubedata['Likes'] <= lower_limit),'Likes'] = lower_limit  "
   ]
  },
  {
   "cell_type": "code",
   "execution_count": 79,
   "id": "a57ff4b9",
   "metadata": {},
   "outputs": [
    {
     "data": {
      "text/plain": [
       "<AxesSubplot:xlabel='Likes'>"
      ]
     },
     "execution_count": 79,
     "metadata": {},
     "output_type": "execute_result"
    },
    {
     "data": {
      "image/png": "[encoded data removed]",
      "text/plain": [
       "<Figure size 432x288 with 1 Axes>"
      ]
     },
     "metadata": {
      "needs_background": "light"
     },
     "output_type": "display_data"
    }
   ],
   "source": [
    "sns.boxplot(newYoutubedata['Likes'])"
   ]
  },
  {
   "cell_type": "code",
   "execution_count": 80,
   "id": "288a31b4",
   "metadata": {},
   "outputs": [],
   "source": [
    "# Identify The Most Popular categories"
   ]
  },
  {
   "cell_type": "code",
   "execution_count": 81,
   "id": "3bdab16a",
   "metadata": {},
   "outputs": [
    {
     "data": {
      "text/plain": [
       "Música y baile                        152\n",
       "Películas, Animación                   60\n",
       "Animación, Videojuegos                 37\n",
       "Vlogs diarios                          37\n",
       "Música y baile, Películas              37\n",
       "Películas, Humor                       37\n",
       "Noticias y Política                    35\n",
       "Animación, Humor                       30\n",
       "Animación, Juguetes                    26\n",
       "Educación                              22\n",
       "Películas                              21\n",
       "Animación                              20\n",
       "Videojuegos, Humor                     18\n",
       "Videojuegos                            17\n",
       "Música y baile, Animación              16\n",
       "Ciencia y tecnología                   13\n",
       "Juguetes                               11\n",
       "Comida y bebida                        10\n",
       "Deportes                               10\n",
       "Humor                                   9\n",
       "Películas, Juguetes                     8\n",
       "Películas, Videojuegos                  8\n",
       "Música y baile, Humor                   5\n",
       "Fitness, Salud y autoayuda              3\n",
       "Videojuegos, Juguetes                   3\n",
       "DIY y Life Hacks                        3\n",
       "Juguetes, Coches y vehículos            3\n",
       "Coches y vehículos                      2\n",
       "Moda                                    2\n",
       "Animales y mascotas                     2\n",
       "Educación, Juguetes                     2\n",
       "Fitness                                 2\n",
       "DIY y Life Hacks, Juguetes              1\n",
       "AnimaciónHumorEducación                 1\n",
       "Salud y autoayuda                       1\n",
       "Música y baile, Juguetes                1\n",
       "Comida y bebida, Salud y autoayuda      1\n",
       "Belleza                                 1\n",
       "ASMR                                    1\n",
       "Viajes, Espectáculos                    1\n",
       "Diseño/arte                             1\n",
       "Diseño/arte, Belleza                    1\n",
       "Belleza, Moda                           1\n",
       "Animación, Humor, Juguetes              1\n",
       "Misterio                                1\n",
       "ASMR, Comida y bebida                   1\n",
       "Comida y bebida, Juguetes               1\n",
       "Name: Categories, dtype: int64"
      ]
     },
     "execution_count": 81,
     "metadata": {},
     "output_type": "execute_result"
    }
   ],
   "source": [
    "Youtubedata.Categories.value_counts()"
   ]
  },
  {
   "cell_type": "code",
   "execution_count": 82,
   "id": "2e1a0ff9",
   "metadata": {},
   "outputs": [
    {
     "data": {
      "image/png": "[encoded data removed]",
      "text/plain": [
       "<Figure size 864x432 with 1 Axes>"
      ]
     },
     "metadata": {
      "needs_background": "light"
     },
     "output_type": "display_data"
    }
   ],
   "source": [
    "Category_counts = Youtubedata['Categories'].value_counts()\n",
    "plt.figure(figsize=(12,6))\n",
    "sns.barplot(x = Category_counts.index, y = Category_counts.values)\n",
    "plt.xticks(rotation = 90)\n",
    "plt.title(\"The Most Popular YouTube Content Categories\")\n",
    "plt.xlabel(\"Category\")\n",
    "plt.ylabel(\"Number Of Creators\")\n",
    "plt.show()"
   ]
  },
  {
   "cell_type": "code",
   "execution_count": 83,
   "id": "2b2c7a89",
   "metadata": {},
   "outputs": [],
   "source": [
    "# The correlation between Subscribers, Likes, Comments \n",
    "corr_likes = np.corrcoef(Youtubedata['Subscribers'], Youtubedata['Likes'])[0,1]\n",
    "corr_comments = np.corrcoef(Youtubedata['Subscribers'], Youtubedata['Comments'])[0,1]"
   ]
  },
  {
   "cell_type": "code",
   "execution_count": 84,
   "id": "19ed681f",
   "metadata": {},
   "outputs": [
    {
     "name": "stdout",
     "output_type": "stream",
     "text": [
      "The correlation between subscribers and Likes is: 0.3439488401323035\n",
      "The correlation between subscribers and Comments is: 0.015334737061539525\n"
     ]
    }
   ],
   "source": [
    "print(\"The correlation between subscribers and Likes is:\", corr_likes)\n",
    "print(\"The correlation between subscribers and Comments is:\", corr_comments)"
   ]
  },
  {
   "cell_type": "code",
   "execution_count": 85,
   "id": "9fa14b99",
   "metadata": {},
   "outputs": [
    {
     "data": {
      "image/png": "[encoded data removed]",
      "text/plain": [
       "<Figure size 576x432 with 2 Axes>"
      ]
     },
     "metadata": {
      "needs_background": "light"
     },
     "output_type": "display_data"
    }
   ],
   "source": [
    "# The Correlation between Subscribers, Likes, and Comments\n",
    "correlation = Youtubedata[['Subscribers','Likes', 'Comments']].corr()\n",
    "plt.figure(figsize=(8,6))\n",
    "sns.heatmap(correlation, annot = True)\n",
    "plt.title(\"Correlation heat map of Subscribers, Likes, and Comments\")\n",
    "plt.show()"
   ]
  },
  {
   "cell_type": "code",
   "execution_count": 86,
   "id": "67a20abe",
   "metadata": {},
   "outputs": [],
   "source": [
    "# Audience Study\n",
    "# Count the number of creators in each combination\n",
    "Category_country_counts = Youtubedata.groupby(['Categories', 'Country']).size().reset_index()"
   ]
  },
  {
   "cell_type": "code",
   "execution_count": 87,
   "id": "b46fda8a",
   "metadata": {},
   "outputs": [
    {
     "data": {
      "text/html": [
       "<div>\n",
       "<style scoped>\n",
       "    .dataframe tbody tr th:only-of-type {\n",
       "        vertical-align: middle;\n",
       "    }\n",
       "\n",
       "    .dataframe tbody tr th {\n",
       "        vertical-align: top;\n",
       "    }\n",
       "\n",
       "    .dataframe thead th {\n",
       "        text-align: right;\n",
       "    }\n",
       "</style>\n",
       "<table border=\"1\" class=\"dataframe\">\n",
       "  <thead>\n",
       "    <tr style=\"text-align: right;\">\n",
       "      <th></th>\n",
       "      <th>Categories</th>\n",
       "      <th>Country</th>\n",
       "      <th>0</th>\n",
       "    </tr>\n",
       "  </thead>\n",
       "  <tbody>\n",
       "    <tr>\n",
       "      <th>0</th>\n",
       "      <td>ASMR</td>\n",
       "      <td>Estados Unidos</td>\n",
       "      <td>1</td>\n",
       "    </tr>\n",
       "    <tr>\n",
       "      <th>1</th>\n",
       "      <td>ASMR, Comida y bebida</td>\n",
       "      <td>Estados Unidos</td>\n",
       "      <td>1</td>\n",
       "    </tr>\n",
       "    <tr>\n",
       "      <th>2</th>\n",
       "      <td>Animación</td>\n",
       "      <td>Argentina</td>\n",
       "      <td>1</td>\n",
       "    </tr>\n",
       "    <tr>\n",
       "      <th>3</th>\n",
       "      <td>Animación</td>\n",
       "      <td>Brasil</td>\n",
       "      <td>3</td>\n",
       "    </tr>\n",
       "    <tr>\n",
       "      <th>4</th>\n",
       "      <td>Animación</td>\n",
       "      <td>Estados Unidos</td>\n",
       "      <td>3</td>\n",
       "    </tr>\n",
       "    <tr>\n",
       "      <th>...</th>\n",
       "      <td>...</td>\n",
       "      <td>...</td>\n",
       "      <td>...</td>\n",
       "    </tr>\n",
       "    <tr>\n",
       "      <th>170</th>\n",
       "      <td>Vlogs diarios</td>\n",
       "      <td>India</td>\n",
       "      <td>14</td>\n",
       "    </tr>\n",
       "    <tr>\n",
       "      <th>171</th>\n",
       "      <td>Vlogs diarios</td>\n",
       "      <td>Indonesia</td>\n",
       "      <td>1</td>\n",
       "    </tr>\n",
       "    <tr>\n",
       "      <th>172</th>\n",
       "      <td>Vlogs diarios</td>\n",
       "      <td>Pakistán</td>\n",
       "      <td>1</td>\n",
       "    </tr>\n",
       "    <tr>\n",
       "      <th>173</th>\n",
       "      <td>Vlogs diarios</td>\n",
       "      <td>Turquía</td>\n",
       "      <td>2</td>\n",
       "    </tr>\n",
       "    <tr>\n",
       "      <th>174</th>\n",
       "      <td>Vlogs diarios</td>\n",
       "      <td>Unknown</td>\n",
       "      <td>7</td>\n",
       "    </tr>\n",
       "  </tbody>\n",
       "</table>\n",
       "<p>175 rows × 3 columns</p>\n",
       "</div>"
      ],
      "text/plain": [
       "                Categories         Country   0\n",
       "0                     ASMR  Estados Unidos   1\n",
       "1    ASMR, Comida y bebida  Estados Unidos   1\n",
       "2                Animación       Argentina   1\n",
       "3                Animación          Brasil   3\n",
       "4                Animación  Estados Unidos   3\n",
       "..                     ...             ...  ..\n",
       "170          Vlogs diarios           India  14\n",
       "171          Vlogs diarios       Indonesia   1\n",
       "172          Vlogs diarios        Pakistán   1\n",
       "173          Vlogs diarios         Turquía   2\n",
       "174          Vlogs diarios         Unknown   7\n",
       "\n",
       "[175 rows x 3 columns]"
      ]
     },
     "execution_count": 87,
     "metadata": {},
     "output_type": "execute_result"
    }
   ],
   "source": [
    "Category_country_counts"
   ]
  },
  {
   "cell_type": "code",
   "execution_count": 88,
   "id": "03bd4cf7",
   "metadata": {},
   "outputs": [],
   "source": [
    "Category_visit_counts = Youtubedata.groupby(['Visits', 'Country']).size().reset_index()"
   ]
  },
  {
   "cell_type": "code",
   "execution_count": 89,
   "id": "063a31b0",
   "metadata": {},
   "outputs": [
    {
     "data": {
      "text/html": [
       "<div>\n",
       "<style scoped>\n",
       "    .dataframe tbody tr th:only-of-type {\n",
       "        vertical-align: middle;\n",
       "    }\n",
       "\n",
       "    .dataframe tbody tr th {\n",
       "        vertical-align: top;\n",
       "    }\n",
       "\n",
       "    .dataframe thead th {\n",
       "        text-align: right;\n",
       "    }\n",
       "</style>\n",
       "<table border=\"1\" class=\"dataframe\">\n",
       "  <thead>\n",
       "    <tr style=\"text-align: right;\">\n",
       "      <th></th>\n",
       "      <th>Visits</th>\n",
       "      <th>Country</th>\n",
       "      <th>0</th>\n",
       "    </tr>\n",
       "  </thead>\n",
       "  <tbody>\n",
       "    <tr>\n",
       "      <th>0</th>\n",
       "      <td>0.0</td>\n",
       "      <td>Arabia Saudita</td>\n",
       "      <td>1</td>\n",
       "    </tr>\n",
       "    <tr>\n",
       "      <th>1</th>\n",
       "      <td>0.0</td>\n",
       "      <td>Estados Unidos</td>\n",
       "      <td>3</td>\n",
       "    </tr>\n",
       "    <tr>\n",
       "      <th>2</th>\n",
       "      <td>0.0</td>\n",
       "      <td>India</td>\n",
       "      <td>2</td>\n",
       "    </tr>\n",
       "    <tr>\n",
       "      <th>3</th>\n",
       "      <td>0.0</td>\n",
       "      <td>Indonesia</td>\n",
       "      <td>1</td>\n",
       "    </tr>\n",
       "    <tr>\n",
       "      <th>4</th>\n",
       "      <td>0.0</td>\n",
       "      <td>México</td>\n",
       "      <td>2</td>\n",
       "    </tr>\n",
       "    <tr>\n",
       "      <th>...</th>\n",
       "      <td>...</td>\n",
       "      <td>...</td>\n",
       "      <td>...</td>\n",
       "    </tr>\n",
       "    <tr>\n",
       "      <th>615</th>\n",
       "      <td>12100000.0</td>\n",
       "      <td>Estados Unidos</td>\n",
       "      <td>1</td>\n",
       "    </tr>\n",
       "    <tr>\n",
       "      <th>616</th>\n",
       "      <td>20400000.0</td>\n",
       "      <td>Estados Unidos</td>\n",
       "      <td>1</td>\n",
       "    </tr>\n",
       "    <tr>\n",
       "      <th>617</th>\n",
       "      <td>20700000.0</td>\n",
       "      <td>India</td>\n",
       "      <td>1</td>\n",
       "    </tr>\n",
       "    <tr>\n",
       "      <th>618</th>\n",
       "      <td>27300000.0</td>\n",
       "      <td>Estados Unidos</td>\n",
       "      <td>1</td>\n",
       "    </tr>\n",
       "    <tr>\n",
       "      <th>619</th>\n",
       "      <td>95400000.0</td>\n",
       "      <td>Estados Unidos</td>\n",
       "      <td>1</td>\n",
       "    </tr>\n",
       "  </tbody>\n",
       "</table>\n",
       "<p>620 rows × 3 columns</p>\n",
       "</div>"
      ],
      "text/plain": [
       "         Visits         Country  0\n",
       "0           0.0  Arabia Saudita  1\n",
       "1           0.0  Estados Unidos  3\n",
       "2           0.0           India  2\n",
       "3           0.0       Indonesia  1\n",
       "4           0.0          México  2\n",
       "..          ...             ... ..\n",
       "615  12100000.0  Estados Unidos  1\n",
       "616  20400000.0  Estados Unidos  1\n",
       "617  20700000.0           India  1\n",
       "618  27300000.0  Estados Unidos  1\n",
       "619  95400000.0  Estados Unidos  1\n",
       "\n",
       "[620 rows x 3 columns]"
      ]
     },
     "execution_count": 89,
     "metadata": {},
     "output_type": "execute_result"
    }
   ],
   "source": [
    "Category_visit_counts"
   ]
  },
  {
   "cell_type": "code",
   "execution_count": 90,
   "id": "646f2a68",
   "metadata": {},
   "outputs": [],
   "source": [
    "# Performance Metrics\n",
    "# Calculate the average metrics\n",
    "average_metrics = Youtubedata[['Subscribers','Likes', 'Comments', 'Visits']].mean()"
   ]
  },
  {
   "cell_type": "code",
   "execution_count": 91,
   "id": "a30fcecc",
   "metadata": {},
   "outputs": [
    {
     "name": "stdout",
     "output_type": "stream",
     "text": [
      "Subscribers    2.327604e+07\n",
      "Likes          4.851987e+04\n",
      "Comments       2.486607e+03\n",
      "Visits         1.042457e+06\n",
      "dtype: float64\n"
     ]
    }
   ],
   "source": [
    "print(average_metrics)"
   ]
  },
  {
   "cell_type": "code",
   "execution_count": 92,
   "id": "b4becd33",
   "metadata": {},
   "outputs": [
    {
     "data": {
      "image/png": "[encoded data removed]",
      "text/plain": [
       "<Figure size 720x432 with 1 Axes>"
      ]
     },
     "metadata": {
      "needs_background": "light"
     },
     "output_type": "display_data"
    }
   ],
   "source": [
    "# bar plot of Average metrics\n",
    "plt.figure(figsize=(10,6))\n",
    "sns.barplot(x = average_metrics.index, y = average_metrics.values)\n",
    "plt.xticks(rotation = -45)\n",
    "plt.title(\"The Average Performance Of Youtube Streamers\")\n",
    "plt.ylabel(\"Average Values\")\n",
    "plt.show()"
   ]
  },
  {
   "cell_type": "code",
   "execution_count": 93,
   "id": "a09f5da3",
   "metadata": {},
   "outputs": [
    {
     "name": "stdout",
     "output_type": "stream",
     "text": [
      "Música y baile 152\n"
     ]
    }
   ],
   "source": [
    "# Identify The Category With The Highest number of Streamers\n",
    "max_category = Category_counts.idxmax()\n",
    "max_count = Category_counts.max()\n",
    "print(max_category,max_count)"
   ]
  },
  {
   "cell_type": "code",
   "execution_count": 94,
   "id": "771e5855",
   "metadata": {},
   "outputs": [],
   "source": [
    "# Calculate Average Metrics By Category\n",
    "Average_Metrics_ByCategory = Youtubedata.groupby('Categories')[['Subscribers','Visits', 'Likes', 'Comments']].mean()"
   ]
  },
  {
   "cell_type": "code",
   "execution_count": 95,
   "id": "22703a70",
   "metadata": {},
   "outputs": [
    {
     "data": {
      "text/html": [
       "<div>\n",
       "<style scoped>\n",
       "    .dataframe tbody tr th:only-of-type {\n",
       "        vertical-align: middle;\n",
       "    }\n",
       "\n",
       "    .dataframe tbody tr th {\n",
       "        vertical-align: top;\n",
       "    }\n",
       "\n",
       "    .dataframe thead th {\n",
       "        text-align: right;\n",
       "    }\n",
       "</style>\n",
       "<table border=\"1\" class=\"dataframe\">\n",
       "  <thead>\n",
       "    <tr style=\"text-align: right;\">\n",
       "      <th></th>\n",
       "      <th>Subscribers</th>\n",
       "      <th>Visits</th>\n",
       "      <th>Likes</th>\n",
       "      <th>Comments</th>\n",
       "    </tr>\n",
       "    <tr>\n",
       "      <th>Categories</th>\n",
       "      <th></th>\n",
       "      <th></th>\n",
       "      <th></th>\n",
       "      <th></th>\n",
       "    </tr>\n",
       "  </thead>\n",
       "  <tbody>\n",
       "    <tr>\n",
       "      <th>ASMR</th>\n",
       "      <td>1.550000e+07</td>\n",
       "      <td>4.361000e+05</td>\n",
       "      <td>5900.000000</td>\n",
       "      <td>130.000000</td>\n",
       "    </tr>\n",
       "    <tr>\n",
       "      <th>ASMR, Comida y bebida</th>\n",
       "      <td>1.320000e+07</td>\n",
       "      <td>4.047000e+05</td>\n",
       "      <td>7900.000000</td>\n",
       "      <td>283.000000</td>\n",
       "    </tr>\n",
       "    <tr>\n",
       "      <th>Animación</th>\n",
       "      <td>1.858500e+07</td>\n",
       "      <td>4.907050e+05</td>\n",
       "      <td>19761.800000</td>\n",
       "      <td>284.550000</td>\n",
       "    </tr>\n",
       "    <tr>\n",
       "      <th>Animación, Humor</th>\n",
       "      <td>2.172667e+07</td>\n",
       "      <td>2.409377e+06</td>\n",
       "      <td>102573.133333</td>\n",
       "      <td>2861.033333</td>\n",
       "    </tr>\n",
       "    <tr>\n",
       "      <th>Animación, Humor, Juguetes</th>\n",
       "      <td>1.390000e+07</td>\n",
       "      <td>2.070000e+04</td>\n",
       "      <td>80.000000</td>\n",
       "      <td>0.000000</td>\n",
       "    </tr>\n",
       "    <tr>\n",
       "      <th>Animación, Juguetes</th>\n",
       "      <td>3.198846e+07</td>\n",
       "      <td>7.299077e+05</td>\n",
       "      <td>2247.730769</td>\n",
       "      <td>0.423077</td>\n",
       "    </tr>\n",
       "    <tr>\n",
       "      <th>Animación, Videojuegos</th>\n",
       "      <td>1.962162e+07</td>\n",
       "      <td>1.244268e+06</td>\n",
       "      <td>76571.729730</td>\n",
       "      <td>2943.000000</td>\n",
       "    </tr>\n",
       "    <tr>\n",
       "      <th>AnimaciónHumorEducación</th>\n",
       "      <td>1.900000e+07</td>\n",
       "      <td>3.700000e+06</td>\n",
       "      <td>88400.000000</td>\n",
       "      <td>2700.000000</td>\n",
       "    </tr>\n",
       "    <tr>\n",
       "      <th>Animales y mascotas</th>\n",
       "      <td>1.600000e+07</td>\n",
       "      <td>1.858150e+06</td>\n",
       "      <td>93200.000000</td>\n",
       "      <td>2762.000000</td>\n",
       "    </tr>\n",
       "    <tr>\n",
       "      <th>Belleza</th>\n",
       "      <td>1.590000e+07</td>\n",
       "      <td>5.531000e+05</td>\n",
       "      <td>36000.000000</td>\n",
       "      <td>4800.000000</td>\n",
       "    </tr>\n",
       "    <tr>\n",
       "      <th>Belleza, Moda</th>\n",
       "      <td>2.400000e+07</td>\n",
       "      <td>5.213000e+05</td>\n",
       "      <td>37600.000000</td>\n",
       "      <td>1100.000000</td>\n",
       "    </tr>\n",
       "    <tr>\n",
       "      <th>Ciencia y tecnología</th>\n",
       "      <td>1.788462e+07</td>\n",
       "      <td>2.494062e+06</td>\n",
       "      <td>91768.307692</td>\n",
       "      <td>1866.923077</td>\n",
       "    </tr>\n",
       "    <tr>\n",
       "      <th>Coches y vehículos</th>\n",
       "      <td>1.330000e+07</td>\n",
       "      <td>1.370500e+05</td>\n",
       "      <td>11150.000000</td>\n",
       "      <td>171.000000</td>\n",
       "    </tr>\n",
       "    <tr>\n",
       "      <th>Comida y bebida</th>\n",
       "      <td>1.645000e+07</td>\n",
       "      <td>1.636870e+06</td>\n",
       "      <td>97383.800000</td>\n",
       "      <td>2060.100000</td>\n",
       "    </tr>\n",
       "    <tr>\n",
       "      <th>Comida y bebida, Juguetes</th>\n",
       "      <td>1.310000e+07</td>\n",
       "      <td>2.820000e+04</td>\n",
       "      <td>94.000000</td>\n",
       "      <td>0.000000</td>\n",
       "    </tr>\n",
       "    <tr>\n",
       "      <th>Comida y bebida, Salud y autoayuda</th>\n",
       "      <td>2.020000e+07</td>\n",
       "      <td>6.500000e+04</td>\n",
       "      <td>1400.000000</td>\n",
       "      <td>116.000000</td>\n",
       "    </tr>\n",
       "    <tr>\n",
       "      <th>DIY y Life Hacks</th>\n",
       "      <td>1.310000e+07</td>\n",
       "      <td>8.576667e+04</td>\n",
       "      <td>2581.666667</td>\n",
       "      <td>168.333333</td>\n",
       "    </tr>\n",
       "    <tr>\n",
       "      <th>DIY y Life Hacks, Juguetes</th>\n",
       "      <td>1.930000e+07</td>\n",
       "      <td>2.600000e+06</td>\n",
       "      <td>47300.000000</td>\n",
       "      <td>2100.000000</td>\n",
       "    </tr>\n",
       "    <tr>\n",
       "      <th>Deportes</th>\n",
       "      <td>1.563000e+07</td>\n",
       "      <td>3.263700e+05</td>\n",
       "      <td>12470.400000</td>\n",
       "      <td>166.700000</td>\n",
       "    </tr>\n",
       "    <tr>\n",
       "      <th>Diseño/arte</th>\n",
       "      <td>2.150000e+07</td>\n",
       "      <td>1.200000e+06</td>\n",
       "      <td>5400.000000</td>\n",
       "      <td>313.000000</td>\n",
       "    </tr>\n",
       "    <tr>\n",
       "      <th>Diseño/arte, Belleza</th>\n",
       "      <td>1.450000e+07</td>\n",
       "      <td>4.438000e+05</td>\n",
       "      <td>39600.000000</td>\n",
       "      <td>412.000000</td>\n",
       "    </tr>\n",
       "    <tr>\n",
       "      <th>Educación</th>\n",
       "      <td>2.692273e+07</td>\n",
       "      <td>7.889091e+05</td>\n",
       "      <td>22018.000000</td>\n",
       "      <td>981.272727</td>\n",
       "    </tr>\n",
       "    <tr>\n",
       "      <th>Educación, Juguetes</th>\n",
       "      <td>1.840000e+07</td>\n",
       "      <td>4.517000e+05</td>\n",
       "      <td>1567.000000</td>\n",
       "      <td>0.000000</td>\n",
       "    </tr>\n",
       "    <tr>\n",
       "      <th>Fitness</th>\n",
       "      <td>1.645000e+07</td>\n",
       "      <td>3.108500e+05</td>\n",
       "      <td>9250.000000</td>\n",
       "      <td>294.500000</td>\n",
       "    </tr>\n",
       "    <tr>\n",
       "      <th>Fitness, Salud y autoayuda</th>\n",
       "      <td>1.720000e+07</td>\n",
       "      <td>1.455000e+05</td>\n",
       "      <td>5366.666667</td>\n",
       "      <td>211.000000</td>\n",
       "    </tr>\n",
       "    <tr>\n",
       "      <th>Humor</th>\n",
       "      <td>1.644444e+07</td>\n",
       "      <td>1.693200e+06</td>\n",
       "      <td>79105.777778</td>\n",
       "      <td>3072.000000</td>\n",
       "    </tr>\n",
       "    <tr>\n",
       "      <th>Juguetes</th>\n",
       "      <td>3.722727e+07</td>\n",
       "      <td>6.285000e+05</td>\n",
       "      <td>2705.000000</td>\n",
       "      <td>1.818182</td>\n",
       "    </tr>\n",
       "    <tr>\n",
       "      <th>Juguetes, Coches y vehículos</th>\n",
       "      <td>1.533333e+07</td>\n",
       "      <td>4.113333e+04</td>\n",
       "      <td>206.000000</td>\n",
       "      <td>0.000000</td>\n",
       "    </tr>\n",
       "    <tr>\n",
       "      <th>Misterio</th>\n",
       "      <td>1.370000e+07</td>\n",
       "      <td>0.000000e+00</td>\n",
       "      <td>0.000000</td>\n",
       "      <td>0.000000</td>\n",
       "    </tr>\n",
       "    <tr>\n",
       "      <th>Moda</th>\n",
       "      <td>1.455000e+07</td>\n",
       "      <td>3.166500e+05</td>\n",
       "      <td>12050.000000</td>\n",
       "      <td>280.000000</td>\n",
       "    </tr>\n",
       "    <tr>\n",
       "      <th>Música y baile</th>\n",
       "      <td>2.754342e+07</td>\n",
       "      <td>5.232849e+05</td>\n",
       "      <td>39001.750000</td>\n",
       "      <td>6875.111842</td>\n",
       "    </tr>\n",
       "    <tr>\n",
       "      <th>Música y baile, Animación</th>\n",
       "      <td>2.096250e+07</td>\n",
       "      <td>6.252125e+05</td>\n",
       "      <td>16551.000000</td>\n",
       "      <td>934.062500</td>\n",
       "    </tr>\n",
       "    <tr>\n",
       "      <th>Música y baile, Humor</th>\n",
       "      <td>1.950000e+07</td>\n",
       "      <td>3.023180e+06</td>\n",
       "      <td>90540.000000</td>\n",
       "      <td>2486.200000</td>\n",
       "    </tr>\n",
       "    <tr>\n",
       "      <th>Música y baile, Juguetes</th>\n",
       "      <td>1.790000e+07</td>\n",
       "      <td>2.738000e+05</td>\n",
       "      <td>170.000000</td>\n",
       "      <td>0.000000</td>\n",
       "    </tr>\n",
       "    <tr>\n",
       "      <th>Música y baile, Películas</th>\n",
       "      <td>2.107027e+07</td>\n",
       "      <td>7.867378e+05</td>\n",
       "      <td>29678.027027</td>\n",
       "      <td>894.648649</td>\n",
       "    </tr>\n",
       "    <tr>\n",
       "      <th>Noticias y Política</th>\n",
       "      <td>1.924857e+07</td>\n",
       "      <td>2.283114e+05</td>\n",
       "      <td>9546.400000</td>\n",
       "      <td>370.714286</td>\n",
       "    </tr>\n",
       "    <tr>\n",
       "      <th>Películas</th>\n",
       "      <td>2.196190e+07</td>\n",
       "      <td>4.919524e+05</td>\n",
       "      <td>25580.714286</td>\n",
       "      <td>575.428571</td>\n",
       "    </tr>\n",
       "    <tr>\n",
       "      <th>Películas, Animación</th>\n",
       "      <td>2.427500e+07</td>\n",
       "      <td>5.172900e+05</td>\n",
       "      <td>28572.100000</td>\n",
       "      <td>780.416667</td>\n",
       "    </tr>\n",
       "    <tr>\n",
       "      <th>Películas, Humor</th>\n",
       "      <td>2.001081e+07</td>\n",
       "      <td>1.028849e+06</td>\n",
       "      <td>49486.270270</td>\n",
       "      <td>1268.189189</td>\n",
       "    </tr>\n",
       "    <tr>\n",
       "      <th>Películas, Juguetes</th>\n",
       "      <td>2.322500e+07</td>\n",
       "      <td>7.065500e+05</td>\n",
       "      <td>774.125000</td>\n",
       "      <td>0.000000</td>\n",
       "    </tr>\n",
       "    <tr>\n",
       "      <th>Películas, Videojuegos</th>\n",
       "      <td>3.351250e+07</td>\n",
       "      <td>7.304500e+05</td>\n",
       "      <td>42114.250000</td>\n",
       "      <td>1374.125000</td>\n",
       "    </tr>\n",
       "    <tr>\n",
       "      <th>Salud y autoayuda</th>\n",
       "      <td>1.980000e+07</td>\n",
       "      <td>3.400000e+06</td>\n",
       "      <td>66600.000000</td>\n",
       "      <td>1800.000000</td>\n",
       "    </tr>\n",
       "    <tr>\n",
       "      <th>Viajes, Espectáculos</th>\n",
       "      <td>2.120000e+07</td>\n",
       "      <td>1.636000e+05</td>\n",
       "      <td>3000.000000</td>\n",
       "      <td>115.000000</td>\n",
       "    </tr>\n",
       "    <tr>\n",
       "      <th>Videojuegos</th>\n",
       "      <td>2.496471e+07</td>\n",
       "      <td>1.327453e+06</td>\n",
       "      <td>57458.823529</td>\n",
       "      <td>1790.882353</td>\n",
       "    </tr>\n",
       "    <tr>\n",
       "      <th>Videojuegos, Humor</th>\n",
       "      <td>3.054444e+07</td>\n",
       "      <td>7.908217e+06</td>\n",
       "      <td>389622.222222</td>\n",
       "      <td>4473.333333</td>\n",
       "    </tr>\n",
       "    <tr>\n",
       "      <th>Videojuegos, Juguetes</th>\n",
       "      <td>2.496667e+07</td>\n",
       "      <td>2.872000e+05</td>\n",
       "      <td>3933.333333</td>\n",
       "      <td>156.333333</td>\n",
       "    </tr>\n",
       "    <tr>\n",
       "      <th>Vlogs diarios</th>\n",
       "      <td>1.782162e+07</td>\n",
       "      <td>1.264424e+06</td>\n",
       "      <td>48487.027027</td>\n",
       "      <td>431.810811</td>\n",
       "    </tr>\n",
       "  </tbody>\n",
       "</table>\n",
       "</div>"
      ],
      "text/plain": [
       "                                     Subscribers        Visits          Likes  \\\n",
       "Categories                                                                      \n",
       "ASMR                                1.550000e+07  4.361000e+05    5900.000000   \n",
       "ASMR, Comida y bebida               1.320000e+07  4.047000e+05    7900.000000   \n",
       "Animación                           1.858500e+07  4.907050e+05   19761.800000   \n",
       "Animación, Humor                    2.172667e+07  2.409377e+06  102573.133333   \n",
       "Animación, Humor, Juguetes          1.390000e+07  2.070000e+04      80.000000   \n",
       "Animación, Juguetes                 3.198846e+07  7.299077e+05    2247.730769   \n",
       "Animación, Videojuegos              1.962162e+07  1.244268e+06   76571.729730   \n",
       "AnimaciónHumorEducación             1.900000e+07  3.700000e+06   88400.000000   \n",
       "Animales y mascotas                 1.600000e+07  1.858150e+06   93200.000000   \n",
       "Belleza                             1.590000e+07  5.531000e+05   36000.000000   \n",
       "Belleza, Moda                       2.400000e+07  5.213000e+05   37600.000000   \n",
       "Ciencia y tecnología                1.788462e+07  2.494062e+06   91768.307692   \n",
       "Coches y vehículos                  1.330000e+07  1.370500e+05   11150.000000   \n",
       "Comida y bebida                     1.645000e+07  1.636870e+06   97383.800000   \n",
       "Comida y bebida, Juguetes           1.310000e+07  2.820000e+04      94.000000   \n",
       "Comida y bebida, Salud y autoayuda  2.020000e+07  6.500000e+04    1400.000000   \n",
       "DIY y Life Hacks                    1.310000e+07  8.576667e+04    2581.666667   \n",
       "DIY y Life Hacks, Juguetes          1.930000e+07  2.600000e+06   47300.000000   \n",
       "Deportes                            1.563000e+07  3.263700e+05   12470.400000   \n",
       "Diseño/arte                         2.150000e+07  1.200000e+06    5400.000000   \n",
       "Diseño/arte, Belleza                1.450000e+07  4.438000e+05   39600.000000   \n",
       "Educación                           2.692273e+07  7.889091e+05   22018.000000   \n",
       "Educación, Juguetes                 1.840000e+07  4.517000e+05    1567.000000   \n",
       "Fitness                             1.645000e+07  3.108500e+05    9250.000000   \n",
       "Fitness, Salud y autoayuda          1.720000e+07  1.455000e+05    5366.666667   \n",
       "Humor                               1.644444e+07  1.693200e+06   79105.777778   \n",
       "Juguetes                            3.722727e+07  6.285000e+05    2705.000000   \n",
       "Juguetes, Coches y vehículos        1.533333e+07  4.113333e+04     206.000000   \n",
       "Misterio                            1.370000e+07  0.000000e+00       0.000000   \n",
       "Moda                                1.455000e+07  3.166500e+05   12050.000000   \n",
       "Música y baile                      2.754342e+07  5.232849e+05   39001.750000   \n",
       "Música y baile, Animación           2.096250e+07  6.252125e+05   16551.000000   \n",
       "Música y baile, Humor               1.950000e+07  3.023180e+06   90540.000000   \n",
       "Música y baile, Juguetes            1.790000e+07  2.738000e+05     170.000000   \n",
       "Música y baile, Películas           2.107027e+07  7.867378e+05   29678.027027   \n",
       "Noticias y Política                 1.924857e+07  2.283114e+05    9546.400000   \n",
       "Películas                           2.196190e+07  4.919524e+05   25580.714286   \n",
       "Películas, Animación                2.427500e+07  5.172900e+05   28572.100000   \n",
       "Películas, Humor                    2.001081e+07  1.028849e+06   49486.270270   \n",
       "Películas, Juguetes                 2.322500e+07  7.065500e+05     774.125000   \n",
       "Películas, Videojuegos              3.351250e+07  7.304500e+05   42114.250000   \n",
       "Salud y autoayuda                   1.980000e+07  3.400000e+06   66600.000000   \n",
       "Viajes, Espectáculos                2.120000e+07  1.636000e+05    3000.000000   \n",
       "Videojuegos                         2.496471e+07  1.327453e+06   57458.823529   \n",
       "Videojuegos, Humor                  3.054444e+07  7.908217e+06  389622.222222   \n",
       "Videojuegos, Juguetes               2.496667e+07  2.872000e+05    3933.333333   \n",
       "Vlogs diarios                       1.782162e+07  1.264424e+06   48487.027027   \n",
       "\n",
       "                                       Comments  \n",
       "Categories                                       \n",
       "ASMR                                 130.000000  \n",
       "ASMR, Comida y bebida                283.000000  \n",
       "Animación                            284.550000  \n",
       "Animación, Humor                    2861.033333  \n",
       "Animación, Humor, Juguetes             0.000000  \n",
       "Animación, Juguetes                    0.423077  \n",
       "Animación, Videojuegos              2943.000000  \n",
       "AnimaciónHumorEducación             2700.000000  \n",
       "Animales y mascotas                 2762.000000  \n",
       "Belleza                             4800.000000  \n",
       "Belleza, Moda                       1100.000000  \n",
       "Ciencia y tecnología                1866.923077  \n",
       "Coches y vehículos                   171.000000  \n",
       "Comida y bebida                     2060.100000  \n",
       "Comida y bebida, Juguetes              0.000000  \n",
       "Comida y bebida, Salud y autoayuda   116.000000  \n",
       "DIY y Life Hacks                     168.333333  \n",
       "DIY y Life Hacks, Juguetes          2100.000000  \n",
       "Deportes                             166.700000  \n",
       "Diseño/arte                          313.000000  \n",
       "Diseño/arte, Belleza                 412.000000  \n",
       "Educación                            981.272727  \n",
       "Educación, Juguetes                    0.000000  \n",
       "Fitness                              294.500000  \n",
       "Fitness, Salud y autoayuda           211.000000  \n",
       "Humor                               3072.000000  \n",
       "Juguetes                               1.818182  \n",
       "Juguetes, Coches y vehículos           0.000000  \n",
       "Misterio                               0.000000  \n",
       "Moda                                 280.000000  \n",
       "Música y baile                      6875.111842  \n",
       "Música y baile, Animación            934.062500  \n",
       "Música y baile, Humor               2486.200000  \n",
       "Música y baile, Juguetes               0.000000  \n",
       "Música y baile, Películas            894.648649  \n",
       "Noticias y Política                  370.714286  \n",
       "Películas                            575.428571  \n",
       "Películas, Animación                 780.416667  \n",
       "Películas, Humor                    1268.189189  \n",
       "Películas, Juguetes                    0.000000  \n",
       "Películas, Videojuegos              1374.125000  \n",
       "Salud y autoayuda                   1800.000000  \n",
       "Viajes, Espectáculos                 115.000000  \n",
       "Videojuegos                         1790.882353  \n",
       "Videojuegos, Humor                  4473.333333  \n",
       "Videojuegos, Juguetes                156.333333  \n",
       "Vlogs diarios                        431.810811  "
      ]
     },
     "execution_count": 95,
     "metadata": {},
     "output_type": "execute_result"
    }
   ],
   "source": [
    "Average_Metrics_ByCategory"
   ]
  },
  {
   "cell_type": "code",
   "execution_count": 96,
   "id": "2ee528bf",
   "metadata": {},
   "outputs": [
    {
     "data": {
      "image/png": "[encoded data removed]",
      "text/plain": [
       "<Figure size 864x432 with 2 Axes>"
      ]
     },
     "metadata": {
      "needs_background": "light"
     },
     "output_type": "display_data"
    }
   ],
   "source": [
    "# Visualize The Average Performance Metrics By Category\n",
    "plt.figure(figsize=(12,6))\n",
    "sns.heatmap(Average_Metrics_ByCategory,cmap = \"coolwarm\", fmt = \".2f\")\n",
    "plt.title(\"The Average Performance Metrics By Content Category\")\n",
    "plt.xlabel(\"Performance Metrics\")\n",
    "plt.ylabel(\"Category\")\n",
    "plt.show()"
   ]
  },
  {
   "cell_type": "code",
   "execution_count": 97,
   "id": "92c3d94f",
   "metadata": {},
   "outputs": [],
   "source": [
    "# The Distribustion of streamers \"Visits\" in graph "
   ]
  },
  {
   "cell_type": "code",
   "execution_count": 98,
   "id": "7988ff66",
   "metadata": {},
   "outputs": [
    {
     "data": {
      "text/plain": [
       "'Unknown'"
      ]
     },
     "execution_count": 98,
     "metadata": {},
     "output_type": "execute_result"
    }
   ],
   "source": [
    "Youtubedata['Country'].max()"
   ]
  },
  {
   "cell_type": "code",
   "execution_count": 99,
   "id": "39ba55b9",
   "metadata": {},
   "outputs": [],
   "source": [
    "# Graph Shows Analaysis Of Streamers by Visits"
   ]
  },
  {
   "cell_type": "code",
   "execution_count": 100,
   "id": "ed52de09",
   "metadata": {},
   "outputs": [
    {
     "data": {
      "image/png": "[encoded data removed]",
      "text/plain": [
       "<Figure size 432x288 with 1 Axes>"
      ]
     },
     "metadata": {
      "needs_background": "light"
     },
     "output_type": "display_data"
    }
   ],
   "source": [
    "Streamers = Youtubedata[['Visits']].plot(kind = 'line', color = 'blue')\n",
    "plt.title(\"Analysis Of streamers By Visits\")\n",
    "plt.xlabel(\"Audience\")\n",
    "plt.ylabel(\"Distribution by streamers\")\n",
    "plt.show()"
   ]
  },
  {
   "cell_type": "code",
   "execution_count": 101,
   "id": "57245166",
   "metadata": {},
   "outputs": [],
   "source": [
    "# Benchmarking\n",
    "# Identify Streamers with above average performance interms of Subscribers, Visits, Likes and Comments"
   ]
  },
  {
   "cell_type": "code",
   "execution_count": 102,
   "id": "25bff7ae",
   "metadata": {},
   "outputs": [
    {
     "data": {
      "text/plain": [
       "Subscribers    False\n",
       "Likes          False\n",
       "Comments       False\n",
       "Visits         False\n",
       "dtype: bool"
      ]
     },
     "execution_count": 102,
     "metadata": {},
     "output_type": "execute_result"
    }
   ],
   "source": [
    "average_metrics > Youtubedata[['Subscribers','Likes', 'Comments', 'Visits']].mean()"
   ]
  },
  {
   "cell_type": "code",
   "execution_count": 103,
   "id": "8c8ea9a1",
   "metadata": {},
   "outputs": [
    {
     "data": {
      "text/plain": [
       "<AxesSubplot:>"
      ]
     },
     "execution_count": 103,
     "metadata": {},
     "output_type": "execute_result"
    },
    {
     "data": {
      "image/png": "[encoded data removed]",
      "text/plain": [
       "<Figure size 432x288 with 1 Axes>"
      ]
     },
     "metadata": {
      "needs_background": "light"
     },
     "output_type": "display_data"
    }
   ],
   "source": [
    "average_metrics.plot()"
   ]
  }
 ],
 "metadata": {
  "kernelspec": {
   "display_name": "Python 3 (ipykernel)",
   "language": "python",
   "name": "python3"
  },
  "language_info": {
   "codemirror_mode": {
    "name": "ipython",
    "version": 3
   },
   "file_extension": ".py",
   "mimetype": "text/x-python",
   "name": "python",
   "nbconvert_exporter": "python",
   "pygments_lexer": "ipython3",
   "version": "3.9.12"
  }
 },
 "nbformat": 4,
 "nbformat_minor": 5
}
